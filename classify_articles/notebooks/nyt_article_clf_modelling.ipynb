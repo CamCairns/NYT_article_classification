{
 "cells": [
  {
   "cell_type": "code",
   "execution_count": 135,
   "metadata": {
    "collapsed": false
   },
   "outputs": [],
   "source": [
    "import numpy as np\n",
    "import os\n",
    "import json\n",
    "import matplotlib.pyplot as plt\n",
    "%matplotlib inline\n",
    "import seaborn as sns \n",
    "from sklearn.datasets import load_files\n",
    "import sklearn.naive_bayes\n",
    "from sklearn.feature_extraction.text import CountVectorizer\n",
    "from sklearn import cross_validation\n",
    "from sklearn.metrics import confusion_matrix\n",
    "from sklearn.cross_validation import train_test_split\n",
    "from sklearn.grid_search import GridSearchCV\n",
    "import scipy\n",
    "\n",
    "\n",
    "def highest_coefficents(N, feature_names):\n",
    "    for i, category in enumerate(nyt.target_names):\n",
    "        idx = np.argsort(clfNB.feature_log_prob_[i])\n",
    "        print \"The most likely {0} words to appear in a document of class {1} are:\".format(N, category)\n",
    "        print 'Probabilities', np.exp(clfNB.feature_log_prob_[2][idx][::-1][:10])\n",
    "        feature_names[idx][::-1][:10]\n",
    "\n",
    "\n",
    "def calc_discrimination_metric(target_class, dataset, classifier):\n",
    "    ckd_range = range(len(dataset.target_names))\n",
    "    ckd_range.remove(target_class)\n",
    "    feature_prob_ = np.exp(classifier.feature_log_prob_)\n",
    "    discrimination_metric = sum(np.abs(feature_prob_[target_class, :] - feature_prob_[ckd_range, :]), 0)\n",
    "    discrimination_metric = discrimination_metric/len(ckd_range)\n",
    "    discrimination_metric_signed = sum(feature_prob_[target_class, :] - feature_prob_[ckd_range, :], 0)\n",
    "    discrimination_metric_signed = discrimination_metric_signed/len(ckd_range)\n",
    "    return discrimination_metric, discrimination_metric_signed\n",
    "\n",
    "\n",
    "def most_discriminating_words(N, feature_names, clf):\n",
    "    with open(\"./results/most_discriminating_words.json\", \"w\") as outfile:\n",
    "        results = {}\n",
    "        for i, category in enumerate(nyt.target_names):\n",
    "            discrimination_metric, discrimination_metric_signed = calc_discrimination_metric(i, nyt, clf)\n",
    "            idx = np.argsort(discrimination_metric)\n",
    "            words = feature_names[idx][::-1][:N]\n",
    "            probs = discrimination_metric_signed[idx][::-1][:N]\n",
    "            results[category] = zip(words, probs)\n",
    "            print \"The most discrminating %d words for class %s are:\" % (N, category)\n",
    "            print words\n",
    "            print \"They have probabilities:\"\n",
    "            print probs\n",
    "        json.dump(results, outfile, indent=4)\n",
    "\n",
    "\n",
    "def calculate_cv_confusion_matrix(y_true, y_pred, target_names):\n",
    "    cm_norm = np.zeros([len(target_names), len(target_names)])\n",
    "    cm = confusion_matrix(y_true, y_pred)\n",
    "    cm_norm[:, :] = cm.astype('float') / cm.sum(axis=1)[:, np.newaxis]\n",
    "    np.set_printoptions(precision=2)\n",
    "\n",
    "    print('Confusion matrix, with normalisation')\n",
    "    print(cm_norm)\n",
    "    plt.figure()\n",
    "    plot_confusion_matrix(cm_norm, target_names)\n",
    "\n",
    "\n",
    "def plot_confusion_matrix(cm, target_names, title='Confusion matrix', cmap=plt.cm.Blues):\n",
    "    sns.set_style(\"whitegrid\", {'axes.grid' : False})\n",
    "    plt.imshow(cm, interpolation='nearest', cmap=cmap)\n",
    "    plt.title(title)\n",
    "    plt.colorbar()\n",
    "    tick_marks = np.arange(len(target_names))\n",
    "    plt.xticks(tick_marks, target_names, rotation=45)\n",
    "    plt.yticks(tick_marks, target_names)\n",
    "    plt.tight_layout()\n",
    "    plt.ylabel('True label')\n",
    "    plt.xlabel('Predicted label')\n",
    "    plt.tight_layout()\n",
    "#     plt.savefig('./results/' + title.lower().replace(\" \", \"_\") + \".png\", transparant=True)\n",
    "#     plt.close()\n",
    "\n",
    "\n",
    "def get_predictions(kfold, clf, doc_term_matrix, y):\n",
    "    y_pred = []\n",
    "    y_test = []\n",
    "    clf_score = []\n",
    "    for train, test in kfold:\n",
    "        clf.fit(doc_term_matrix[train, :], y[train])\n",
    "        clf_score.append(clf.score(doc_term_matrix[test, :], y[test]))\n",
    "        y_pred.append(clf.fit(doc_term_matrix[train, :], y[train]).predict(doc_term_matrix[test, :]))\n",
    "        y_test.append(y[test])\n",
    "    return y_pred, y_test, clf_score"
   ]
  },
  {
   "cell_type": "code",
   "execution_count": 264,
   "metadata": {
    "collapsed": true
   },
   "outputs": [],
   "source": [
    "nyt = load_files(os.environ[\"data_dir\"] + \"/nyt_corpus/txt_document/\", shuffle=True)\n",
    "kfold = cross_validation.KFold(n=len(nyt.data), n_folds=3)\n",
    "clfNB = sklearn.naive_bayes.BernoulliNB()\n",
    "# Tokenize\n",
    "count_vect = CountVectorizer(decode_error='ignore', ngram_range=(1, 1))\n",
    "doc_term_matrix = count_vect.fit_transform(nyt.data)\n",
    "feature_names = np.array(count_vect.get_feature_names())\n",
    "X = np.array(nyt.data)\n",
    "y = np.array(nyt.target)"
   ]
  },
  {
   "cell_type": "code",
   "execution_count": 253,
   "metadata": {
    "collapsed": false
   },
   "outputs": [
    {
     "data": {
      "text/plain": [
       "(5050, 84641)"
      ]
     },
     "execution_count": 253,
     "metadata": {},
     "output_type": "execute_result"
    }
   ],
   "source": [
    "doc_term_matrix.shape"
   ]
  },
  {
   "cell_type": "code",
   "execution_count": 254,
   "metadata": {
    "collapsed": false
   },
   "outputs": [
    {
     "data": {
      "text/plain": [
       "<5050x84641 sparse matrix of type '<type 'numpy.int64'>'\n",
       "\twith 1326758 stored elements in Compressed Sparse Row format>"
      ]
     },
     "execution_count": 254,
     "metadata": {},
     "output_type": "execute_result"
    }
   ],
   "source": [
    "doc_term_matrix"
   ]
  },
  {
   "cell_type": "code",
   "execution_count": 255,
   "metadata": {
    "collapsed": true
   },
   "outputs": [],
   "source": [
    "X_train, X_test, y_train, y_test = train_test_split(doc_term_matrix, y, test_size=0.2, random_state=42)"
   ]
  },
  {
   "cell_type": "markdown",
   "metadata": {},
   "source": [
    "## Bernoulli Classification"
   ]
  },
  {
   "cell_type": "code",
   "execution_count": 213,
   "metadata": {
    "collapsed": true
   },
   "outputs": [],
   "source": [
    "parameters = {'alpha': np.linspace(0,1,10)}\n",
    "clfBernoulliNB = sklearn.naive_bayes.BernoulliNB()\n",
    "clfBNB = GridSearchCV(clfBernoulliNB, parameters)"
   ]
  },
  {
   "cell_type": "code",
   "execution_count": 214,
   "metadata": {
    "collapsed": false
   },
   "outputs": [
    {
     "data": {
      "text/plain": [
       "GridSearchCV(cv=None, error_score='raise',\n",
       "       estimator=BernoulliNB(alpha=1.0, binarize=0.0, class_prior=None, fit_prior=True),\n",
       "       fit_params={}, iid=True, n_jobs=1,\n",
       "       param_grid={'alpha': array([ 0.     ,  0.11111,  0.22222,  0.33333,  0.44444,  0.55556,\n",
       "        0.66667,  0.77778,  0.88889,  1.     ])},\n",
       "       pre_dispatch='2*n_jobs', refit=True, scoring=None, verbose=0)"
      ]
     },
     "execution_count": 214,
     "metadata": {},
     "output_type": "execute_result"
    }
   ],
   "source": [
    "clfBNB.fit(X_train, y_train)"
   ]
  },
  {
   "cell_type": "code",
   "execution_count": 215,
   "metadata": {
    "collapsed": false
   },
   "outputs": [
    {
     "name": "stdout",
     "output_type": "stream",
     "text": [
      "{'alpha': 0.1111111111111111}\n",
      "0.890099009901\n"
     ]
    }
   ],
   "source": [
    "print clfBNB.best_params_\n",
    "print clfBNB.best_score_"
   ]
  },
  {
   "cell_type": "code",
   "execution_count": 91,
   "metadata": {
    "collapsed": false
   },
   "outputs": [],
   "source": [
    "scores = np.array([i[1] for i in clf.grid_scores_])\n",
    "std_error = np.array([scipy.std(i[2]) for i in clf.grid_scores_])\n",
    "alphas = [i[0]['alpha'] for i in clf.grid_scores_] "
   ]
  },
  {
   "cell_type": "code",
   "execution_count": 102,
   "metadata": {
    "collapsed": false
   },
   "outputs": [
    {
     "data": {
      "text/plain": [
       "<matplotlib.text.Text at 0x119ff8d50>"
      ]
     },
     "execution_count": 102,
     "metadata": {},
     "output_type": "execute_result"
    },
    {
     "data": {
      "image/png": "[encoded data removed]",
      "text/plain": [
       "<matplotlib.figure.Figure at 0x11a0ee190>"
      ]
     },
     "metadata": {},
     "output_type": "display_data"
    }
   ],
   "source": [
    "plt.plot(alphas, scores)\n",
    "plt.fill_between(alphas, scores + std_error, scores - std_error, alpha=0.2)\n",
    "plt.title(\"Parameter Sweep: Bernoulli Naive Bayes\")\n",
    "plt.xlabel(r\"$\\alpha$ value\")\n",
    "plt.ylabel(\"Mean Accuracy\")"
   ]
  },
  {
   "cell_type": "markdown",
   "metadata": {},
   "source": [
    "## Multinomial Naive Bayes Classification"
   ]
  },
  {
   "cell_type": "code",
   "execution_count": 256,
   "metadata": {
    "collapsed": false
   },
   "outputs": [],
   "source": [
    "parameters = {'alpha': np.linspace(0,1,10)}\n",
    "clfMultinomialNB = sklearn.naive_bayes.MultinomialNB()\n",
    "clfMNB = GridSearchCV(clfMultinomialNB, parameters)"
   ]
  },
  {
   "cell_type": "code",
   "execution_count": 257,
   "metadata": {
    "collapsed": false
   },
   "outputs": [
    {
     "data": {
      "text/plain": [
       "GridSearchCV(cv=None, error_score='raise',\n",
       "       estimator=MultinomialNB(alpha=1.0, class_prior=None, fit_prior=True),\n",
       "       fit_params={}, iid=True, n_jobs=1,\n",
       "       param_grid={'alpha': array([ 0.     ,  0.11111,  0.22222,  0.33333,  0.44444,  0.55556,\n",
       "        0.66667,  0.77778,  0.88889,  1.     ])},\n",
       "       pre_dispatch='2*n_jobs', refit=True, scoring=None, verbose=0)"
      ]
     },
     "execution_count": 257,
     "metadata": {},
     "output_type": "execute_result"
    }
   ],
   "source": [
    "clfMNB.fit(X_train, y_train)"
   ]
  },
  {
   "cell_type": "code",
   "execution_count": 258,
   "metadata": {
    "collapsed": false
   },
   "outputs": [
    {
     "name": "stdout",
     "output_type": "stream",
     "text": [
      "{'alpha': 0.44444444444444442}\n",
      "0.930445544554\n"
     ]
    }
   ],
   "source": [
    "print clfMNB.best_params_\n",
    "print clfMNB.best_score_"
   ]
  },
  {
   "cell_type": "code",
   "execution_count": 259,
   "metadata": {
    "collapsed": false
   },
   "outputs": [
    {
     "data": {
      "text/plain": [
       "<matplotlib.text.Text at 0x1169905d0>"
      ]
     },
     "execution_count": 259,
     "metadata": {},
     "output_type": "execute_result"
    },
    {
     "data": {
      "image/png": "[encoded data removed]",
      "text/plain": [
       "<matplotlib.figure.Figure at 0x119f1b950>"
      ]
     },
     "metadata": {},
     "output_type": "display_data"
    }
   ],
   "source": [
    "scores = np.array([i[1] for i in clfMNB.grid_scores_])\n",
    "std_error = np.array([scipy.std(i[2]) for i in clfMNB.grid_scores_])\n",
    "alphas = [i[0]['alpha'] for i in clfMNB.grid_scores_] \n",
    "\n",
    "plt.plot(alphas, scores)\n",
    "plt.fill_between(alphas, scores + std_error, scores - std_error, alpha=0.2)\n",
    "plt.title(\"Parameter Sweep: Multinomial Naive Bayes\")\n",
    "plt.xlabel(r\"$\\alpha$ value\")\n",
    "plt.ylabel(\"Mean Accuracy\")"
   ]
  },
  {
   "cell_type": "markdown",
   "metadata": {},
   "source": [
    "## Score out of time sample"
   ]
  },
  {
   "cell_type": "code",
   "execution_count": 260,
   "metadata": {
    "collapsed": true
   },
   "outputs": [],
   "source": [
    "from sklearn.metrics import accuracy_score"
   ]
  },
  {
   "cell_type": "code",
   "execution_count": 261,
   "metadata": {
    "collapsed": false
   },
   "outputs": [
    {
     "name": "stdout",
     "output_type": "stream",
     "text": [
      "0.939603960396\n",
      "Confusion matrix, with normalisation\n",
      "[[ 0.85  0.    0.13  0.    0.03]\n",
      " [ 0.01  0.96  0.01  0.01  0.02]\n",
      " [ 0.01  0.    0.94  0.02  0.01]\n",
      " [ 0.    0.    0.01  0.97  0.02]\n",
      " [ 0.    0.    0.    0.    0.98]]\n"
     ]
    },
    {
     "data": {
      "image/png": "[encoded data removed]",
      "text/plain": [
       "<matplotlib.figure.Figure at 0x145fa9810>"
      ]
     },
     "metadata": {},
     "output_type": "display_data"
    }
   ],
   "source": [
    "y_pred =  clfMNB.best_estimator_.predict(X_test)\n",
    "print accuracy_score(y_test, y_pred)\n",
    "calculate_cv_confusion_matrix(y_test, y_pred, nyt.target_names)"
   ]
  },
  {
   "cell_type": "code",
   "execution_count": 223,
   "metadata": {
    "collapsed": false
   },
   "outputs": [
    {
     "name": "stdout",
     "output_type": "stream",
     "text": [
      "0.886138613861\n",
      "Confusion matrix, with normalisation\n",
      "[[ 0.81  0.01  0.16  0.01  0.02]\n",
      " [ 0.02  0.96  0.01  0.    0.02]\n",
      " [ 0.02  0.    0.94  0.02  0.01]\n",
      " [ 0.01  0.01  0.08  0.86  0.03]\n",
      " [ 0.01  0.04  0.09  0.    0.86]]\n"
     ]
    },
    {
     "data": {
      "image/png": "[encoded data removed]",
      "text/plain": [
       "<matplotlib.figure.Figure at 0x116608f90>"
      ]
     },
     "metadata": {},
     "output_type": "display_data"
    }
   ],
   "source": [
    "y_pred =  clfBNB.best_estimator_.predict(X_test)\n",
    "print accuracy_score(y_test, y_pred)\n",
    "calculate_cv_confusion_matrix(y_test, y_pred, nyt.target_names)"
   ]
  },
  {
   "cell_type": "markdown",
   "metadata": {},
   "source": [
    "## Find the most discriminating words"
   ]
  },
  {
   "cell_type": "code",
   "execution_count": 262,
   "metadata": {
    "collapsed": true
   },
   "outputs": [],
   "source": [
    "def calc_discrimination_metric(target_class, dataset, classifier):\n",
    "    ckd_range = range(len(dataset.target_names))\n",
    "    ckd_range.remove(target_class)\n",
    "    feature_prob_ = np.exp(classifier.feature_log_prob_)\n",
    "    print feature_prob_.mean(), feature_prob_.max()\n",
    "    discrimination_metric = sum(np.abs(feature_prob_[target_class, :] - feature_prob_[ckd_range, :]), 0)\n",
    "    discrimination_metric = discrimination_metric/len(ckd_range)\n",
    "    discrimination_metric_signed = sum(feature_prob_[target_class, :] - feature_prob_[ckd_range, :], 0)\n",
    "    discrimination_metric_signed = discrimination_metric_signed/len(ckd_range)\n",
    "    return feature_prob_, discrimination_metric, discrimination_metric_signed\n",
    "\n",
    "\n",
    "def most_discriminating_words(N, feature_names, clf):\n",
    "    with open(\"./results/most_discriminating_words.json\", \"w\") as outfile:\n",
    "        results = {}\n",
    "        for i, category in enumerate(nyt.target_names):\n",
    "            feature_prob_, discrimination_metric, discrimination_metric_signed = calc_discrimination_metric(i, nyt, clf)\n",
    "            idx = np.argsort(discrimination_metric)\n",
    "            print idx\n",
    "            words = feature_names[idx][::-1][:N]\n",
    "            probs = discrimination_metric_signed[idx][::-1][:N]\n",
    "            results[category] = zip(words, probs)\n",
    "            print \"The most discrminating %d words for class %s are:\" % (N, category)\n",
    "            print words\n",
    "            print \"They have probabilities:\"\n",
    "            print probs\n",
    "        json.dump(results, outfile, indent=4)\n",
    "    return feature_prob_"
   ]
  },
  {
   "cell_type": "code",
   "execution_count": 263,
   "metadata": {
    "collapsed": false
   },
   "outputs": [
    {
     "name": "stdout",
     "output_type": "stream",
     "text": [
      "1.1814605215e-05 0.0180466624632\n",
      "[ 6036 42621  7388 ...,  6829 50477 65644]\n",
      "The most discrminating 10 words for class Arts are:\n",
      "[u'said' u'mr' u'art' u'street' u'music' u'212' u'museum' u'new' u'org'\n",
      " u'ms']\n",
      "They have probabilities:\n",
      "[-0.01 -0.    0.    0.    0.    0.    0.    0.    0.    0.  ]\n",
      "1.1814605215e-05 0.0180466624632\n",
      "[11215  5811 48906 ..., 65644  8611 17257]\n",
      "The most discrminating 10 words for class Business are:\n",
      "[u'company' u'bank' u'said' u'mr' u'percent' u'billion' u'financial'\n",
      " u'million' u'firm' u'chief']\n",
      "They have probabilities:\n",
      "[ 0.01  0.01  0.    0.    0.    0.    0.    0.    0.    0.  ]\n",
      "1.1814605215e-05 0.0180466624632\n",
      "[  872 48499 41900 ..., 22340 65644 50477]\n",
      "The most discrminating 10 words for class Obituaries are:\n",
      "[u'mr' u'said' u'died' u'york' u'dr' u'born' u'game' u'company'\n",
      " u'university' u'ms']\n",
      "They have probabilities:\n",
      "[ 0.01 -0.01  0.    0.    0.    0.   -0.   -0.    0.    0.  ]\n",
      "1.1814605215e-05 0.0180466624632\n",
      "[50474 41576 41562 ..., 65644 30975 50477]\n",
      "The most discrminating 10 words for class Sports are:\n",
      "[u'mr' u'game' u'said' u'team' u'season' u'ms' u'games' u'league' u'new'\n",
      " u'players']\n",
      "They have probabilities:\n",
      "[-0.01  0.01  0.    0.    0.   -0.    0.    0.   -0.    0.  ]\n",
      "1.1814605215e-05 0.0180466624632\n",
      "[ 7871 47819 71727 ..., 32687 50477 65644]\n",
      "The most discrminating 10 words for class World are:\n",
      "[u'said' u'mr' u'government' u'state' u'officials' u'people' u'united'\n",
      " u'new' u'military' u'country']\n",
      "They have probabilities:\n",
      "[ 0.01  0.    0.    0.    0.    0.    0.   -0.    0.    0.  ]\n"
     ]
    }
   ],
   "source": [
    "# get most discriminating ngrams for each category\n",
    "feature_prob_ = most_discriminating_words(10, feature_names, clfMNB.best_estimator_)"
   ]
  },
  {
   "cell_type": "code",
   "execution_count": 197,
   "metadata": {
    "collapsed": false
   },
   "outputs": [
    {
     "data": {
      "text/plain": [
       "array([  4.13e-07,   4.13e-07,   4.13e-07, ...,   2.22e-02,   2.58e-02,\n",
       "         2.76e-02])"
      ]
     },
     "execution_count": 197,
     "metadata": {},
     "output_type": "execute_result"
    }
   ],
   "source": [
    "np.sort(np.abs(feature_prob_[0] - feature_prob_[1:5]).sum(axis=0))"
   ]
  },
  {
   "cell_type": "code",
   "execution_count": 140,
   "metadata": {
    "collapsed": true
   },
   "outputs": [],
   "source": [
    "discrimination_metric, discrimination_metric_signed = calc_discrimination_metric(0, nyt, clf.best_estimator_)"
   ]
  },
  {
   "cell_type": "code",
   "execution_count": 143,
   "metadata": {
    "collapsed": false
   },
   "outputs": [
    {
     "data": {
      "text/plain": [
       "array([  1.03e-07,   1.03e-07,   1.03e-07, ...,   5.55e-03,   6.46e-03,\n",
       "         6.90e-03])"
      ]
     },
     "execution_count": 143,
     "metadata": {},
     "output_type": "execute_result"
    }
   ],
   "source": [
    "discrimination_metric"
   ]
  },
  {
   "cell_type": "code",
   "execution_count": 142,
   "metadata": {
    "collapsed": false
   },
   "outputs": [],
   "source": [
    "discrimination_metric.sort()"
   ]
  },
  {
   "cell_type": "markdown",
   "metadata": {},
   "source": [
    "## For multinomial NB"
   ]
  },
  {
   "cell_type": "code",
   "execution_count": 234,
   "metadata": {
    "collapsed": false
   },
   "outputs": [
    {
     "data": {
      "text/plain": [
       "(815, 84944)"
      ]
     },
     "execution_count": 234,
     "metadata": {},
     "output_type": "execute_result"
    }
   ],
   "source": [
    "X_train[y_train==0].shape"
   ]
  },
  {
   "cell_type": "code",
   "execution_count": 238,
   "metadata": {
    "collapsed": false
   },
   "outputs": [],
   "source": [
    "tf = X_train[y_train==0].sum(axis=0)"
   ]
  },
  {
   "cell_type": "code",
   "execution_count": 239,
   "metadata": {
    "collapsed": true
   },
   "outputs": [],
   "source": [
    "N = X_train[y_train==0].sum()"
   ]
  },
  {
   "cell_type": "code",
   "execution_count": 242,
   "metadata": {
    "collapsed": false
   },
   "outputs": [],
   "source": [
    "V = X_train.shape[1]"
   ]
  },
  {
   "cell_type": "code",
   "execution_count": 248,
   "metadata": {
    "collapsed": false
   },
   "outputs": [
    {
     "data": {
      "text/plain": [
       "815"
      ]
     },
     "execution_count": 248,
     "metadata": {},
     "output_type": "execute_result"
    }
   ],
   "source": [
    "tf.max()"
   ]
  },
  {
   "cell_type": "code",
   "execution_count": 245,
   "metadata": {
    "collapsed": false
   },
   "outputs": [
    {
     "data": {
      "text/plain": [
       "matrix([[  5.98e-07,   5.98e-07,   5.98e-07, ...,   2.19e-03,   2.20e-03,\n",
       "           2.20e-03]])"
      ]
     },
     "execution_count": 245,
     "metadata": {},
     "output_type": "execute_result"
    }
   ],
   "source": [
    "np.sort((tf + 0.222)/(N + V*0.222))"
   ]
  },
  {
   "cell_type": "code",
   "execution_count": null,
   "metadata": {
    "collapsed": true
   },
   "outputs": [],
   "source": []
  }
 ],
 "metadata": {
  "anaconda-cloud": {},
  "kernelspec": {
   "display_name": "Python [default]",
   "language": "python",
   "name": "python2"
  },
  "language_info": {
   "codemirror_mode": {
    "name": "ipython",
    "version": 2
   },
   "file_extension": ".py",
   "mimetype": "text/x-python",
   "name": "python",
   "nbconvert_exporter": "python",
   "pygments_lexer": "ipython2",
   "version": "2.7.12"
  }
 },
 "nbformat": 4,
 "nbformat_minor": 0
}
